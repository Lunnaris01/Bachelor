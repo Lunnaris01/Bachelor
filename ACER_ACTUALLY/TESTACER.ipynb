{
 "cells": [
  {
   "cell_type": "code",
   "execution_count": 13,
   "metadata": {},
   "outputs": [
    {
     "name": "stdout",
     "output_type": "stream",
     "text": [
      "Discrete(6)\n"
     ]
    },
    {
     "name": "stderr",
     "output_type": "stream",
     "text": [
      "/home/juull100/.local/lib/python3.6/site-packages/skimage/transform/_warps.py:105: UserWarning: The default mode, 'constant', will be changed to 'reflect' in skimage 0.15.\n",
      "  warn(\"The default mode, 'constant', will be changed to 'reflect' in \"\n",
      "/home/juull100/.local/lib/python3.6/site-packages/skimage/transform/_warps.py:110: UserWarning: Anti-aliasing will be enabled by default in skimage 0.15 to avoid aliasing artifacts when down-sampling images.\n",
      "  warn(\"Anti-aliasing will be enabled by default in skimage 0.15 to \"\n"
     ]
    }
   ],
   "source": [
    "import threading\n",
    "import multiprocessing\n",
    "import numpy as np\n",
    "import tensorflow as tf\n",
    "from AtariEnvironment import *\n",
    "from ACERNetwork import * \n",
    "from ReplayBuffer import *\n",
    "from Worker import * \n",
    "from Trainer import train,train_acer, test\n",
    "import gym as gym\n",
    "from time import sleep\n",
    "from time import time\n",
    "from utils import preprocess\n",
    "\n",
    "network_t = \"cnn\"\n",
    "GAME_NAME=\"SpaceInvaders-v0\"\n",
    "#GAME_NAME = \"LunarLander-v2\"\n",
    "TB_DIR = \"saves/spaceinv/final_R0/\"\n",
    "env=Atari_Environment(gym.make(GAME_NAME))\n",
    "#env = gym.make(GAME_NAME)\n",
    "state= env.reset()\n",
    "training_finished = False\n",
    "LEARNING_RATE = 8e-5\n",
    "print(env.action_space)"
   ]
  },
  {
   "cell_type": "code",
   "execution_count": 14,
   "metadata": {},
   "outputs": [],
   "source": [
    "from tensorflow import Session, ConfigProto\n",
    "import os\n",
    "os.environ[\"CUDA_VISIBLE_DEVICES\"]=\"0,1\"\n",
    "config = ConfigProto()\n",
    "config.gpu_options.allow_growth=True\n",
    "Session(config=config).close()"
   ]
  },
  {
   "cell_type": "code",
   "execution_count": 15,
   "metadata": {},
   "outputs": [
    {
     "name": "stderr",
     "output_type": "stream",
     "text": [
      "/usr/local/lib/python3.6/dist-packages/tensorflow/python/ops/gradients_impl.py:100: UserWarning: Converting sparse IndexedSlices to a dense Tensor of unknown shape. This may consume a large amount of memory.\n",
      "  \"Converting sparse IndexedSlices to a dense Tensor of unknown shape. \"\n"
     ]
    },
    {
     "name": "stdout",
     "output_type": "stream",
     "text": [
      "[[0.16993299 0.16497833 0.16905086 0.16568689 0.16612226 0.16422872]]\n",
      "[[0.16930215 0.16445832 0.16392387 0.16593485 0.1677756  0.16860521]]\n",
      "[[0.16930215 0.16445832 0.16392387 0.16593485 0.1677756  0.16860521]]\n",
      "[[0.16930215 0.16445832 0.16392387 0.16593485 0.1677756  0.16860521]]\n"
     ]
    }
   ],
   "source": [
    "session = tf.Session()\n",
    "tf.reset_default_graph()\n",
    "\n",
    "with tf.Session() as sess:\n",
    "    with tf.device('/cpu:0'):\n",
    "        G_Agent=ACERNetwork(sess,env,\"global\",network_type=network_t)\n",
    "        agent = ACERNetwork(sess,env,str(0),G_Agent, network_type=network_t)\n",
    "        sess.run(tf.global_variables_initializer())\n",
    "        print(agent.get_pi(state))\n",
    "        print(G_Agent.get_pi(state))\n",
    "        agent.update_target()\n",
    "        print(agent.get_pi(state))\n",
    "        print(G_Agent.get_pi(state))\n"
   ]
  },
  {
   "cell_type": "code",
   "execution_count": 17,
   "metadata": {},
   "outputs": [],
   "source": [
    "def start_method(game_name=GAME_NAME, num_agents = 16, restore = False, save_path=TB_DIR, replay_ratio=0):\n",
    "        \n",
    "    envs=[]\n",
    "    agents=[]\n",
    "    workers=[]\n",
    "    processes=[]\n",
    "    \n",
    "    for _ in range(num_agents):\n",
    "        #a_env = gym.make(game_name)\n",
    "        #a_env = Custom_Environment(gym.make(game_name))\n",
    "        a_env = Atari_Environment(gym.make(game_name), clipreward=True)\n",
    "        envs.append(a_env)\n",
    "       \n",
    "\n",
    "    with tf.Session() as sess:\n",
    "        with tf.device('/cpu:0'):\n",
    "            coord = tf.train.Coordinator()\n",
    "            G_Agent=ACERNetwork(sess,envs[0],\"global\",network_type=network_t,lr=LEARNING_RATE,decay=0.99)\n",
    "            for agent_num in range(num_agents):\n",
    "                agents.append(ACERNetwork(sess,envs[0],str(agent_num),G_Agent,network_type=network_t))\n",
    "            saver = tf.train.Saver(max_to_keep=5)\n",
    "            \n",
    "\n",
    "            if restore:\n",
    "                ckpt = tf.train.get_checkpoint_state(save_path+\"checkpoints\")\n",
    "                saver.restore(sess,ckpt.model_checkpoint_path)\n",
    "            else:\n",
    "                sess.run(tf.global_variables_initializer())\n",
    "            # Create a process for each worker\n",
    "            for thread_id in range(num_agents):\n",
    "                if thread_id == 0:\n",
    "                    workers.append(Worker(agents[thread_id],envs[thread_id],sess,\"eval\", 20, 0.99, 200000, replay_ratio))\n",
    "                    processes.append(threading.Thread(target=workers[thread_id].work_and_eval_acer, args=(saver,TB_DIR)))\n",
    "                else:\n",
    "                    workers.append(Worker(agents[thread_id],envs[thread_id],sess,str(thread_id), 20, 0.99, 200000, replay_ratio))\n",
    "                    processes.append(threading.Thread(target=workers[thread_id].work_acer))\n",
    "            # Start all the processes\n",
    "            for p in processes:\n",
    "                p.daemon = True\n",
    "                p.start()\n",
    "                \n",
    "            # Join the processes, so we get this thread back.\n",
    "            coord.join(processes)\n"
   ]
  },
  {
   "cell_type": "code",
   "execution_count": null,
   "metadata": {},
   "outputs": [
    {
     "name": "stderr",
     "output_type": "stream",
     "text": [
      "/usr/local/lib/python3.6/dist-packages/tensorflow/python/ops/gradients_impl.py:100: UserWarning: Converting sparse IndexedSlices to a dense Tensor of unknown shape. This may consume a large amount of memory.\n",
      "  \"Converting sparse IndexedSlices to a dense Tensor of unknown shape. \"\n"
     ]
    },
    {
     "name": "stdout",
     "output_type": "stream",
     "text": [
      "worker_1  using  0  per online step\n",
      "worker_2  using  0  per online step\n",
      "worker_3  using  0  per online step\n",
      "worker_4  using  0  per online step\n",
      "worker_5worker_6  using  0  per online step\n",
      " worker_7  using  0  per online step\n",
      "worker_8  using  0  per online step\n",
      " using worker_9  using  0  per online step\n",
      " 0  per online step\n",
      "worker_10  using  0  per online step\n",
      "worker_11  using  0  per online step\n",
      "worker_12  using  0  per online step\n",
      "worker_13  using  0  per online step\n",
      "worker_14  using  0  per online step\n",
      "worker_15  using  0  per online step\n"
     ]
    },
    {
     "name": "stderr",
     "output_type": "stream",
     "text": [
      "/home/juull100/.local/lib/python3.6/site-packages/skimage/transform/_warps.py:105: UserWarning: The default mode, 'constant', will be changed to 'reflect' in skimage 0.15.\n",
      "  warn(\"The default mode, 'constant', will be changed to 'reflect' in \"\n",
      "/home/juull100/.local/lib/python3.6/site-packages/skimage/transform/_warps.py:110: UserWarning: Anti-aliasing will be enabled by default in skimage 0.15 to avoid aliasing artifacts when down-sampling images.\n",
      "  warn(\"Anti-aliasing will be enabled by default in skimage 0.15 to \"\n"
     ]
    },
    {
     "name": "stdout",
     "output_type": "stream",
     "text": [
      "Worker  worker_eval At  667  Running/Max:  2.0 11.0  Frames: 42\n",
      "pi: [[0.1668107  0.16294451 0.16793256 0.1679323  0.1646202  0.1697597 ]]\n",
      "Saving Model\n",
      "Worker  worker_eval At  2199  Running/Max:  4.54 18.0  Frames: 137\n",
      "pi: [[0.10549079 0.1658674  0.27392623 0.07770701 0.09372811 0.28328046]]\n",
      "Saving Model\n",
      "Worker  worker_eval At  4027  Running/Max:  6.02566 18.0  Frames: 250\n",
      "pi: [[0.07243815 0.12089977 0.37733638 0.1000376  0.15935396 0.16993418]]\n",
      "Saving Model\n",
      "Worker  worker_eval At  6722  Running/Max:  8.589535526000002 20.0  Frames: 417\n",
      "pi: [[0.05486343 0.03179897 0.22797143 0.02547607 0.5351176  0.12477248]]\n",
      "Saving Model\n"
     ]
    }
   ],
   "source": [
    "tf.reset_default_graph()\n",
    "start_method(replay_ratio=0)"
   ]
  },
  {
   "cell_type": "code",
   "execution_count": null,
   "metadata": {},
   "outputs": [],
   "source": [
    "TB_DIR = \"saves/spaceinv/final_R1/\"\n",
    "tf.reset_default_graph()\n",
    "start_method(replay_ratio=1)"
   ]
  },
  {
   "cell_type": "code",
   "execution_count": 7,
   "metadata": {},
   "outputs": [],
   "source": [
    "def test_method(game_name=GAME_NAME, num_agents = 1, restore = True, save_path=TB_DIR):\n",
    "        \n",
    "    envs=[]\n",
    "    agents=[]\n",
    "    processes=[]\n",
    "    \n",
    "    for _ in range(num_agents):\n",
    "        #a_env = gym.make(game_name)\n",
    "        #a_env = Custom_Environment(gym.make(game_name))\n",
    "        a_env = Atari_Environment(gym.make(game_name), clipreward=True)\n",
    "        envs.append(a_env)\n",
    "       \n",
    "\n",
    "\n",
    "    with tf.Session() as sess:\n",
    "        with tf.device('/cpu:0'):\n",
    "            coord = tf.train.Coordinator()\n",
    "            G_Agent=ACERNetwork(sess,envs[0],\"global\",network_type=network_t,lr=LEARNING_RATE,decay=0.99)\n",
    "            for agent_num in range(num_agents):\n",
    "                agents.append(ACERNetwork(sess,envs[0],str(agent_num),G_Agent,network_type=network_t))\n",
    "            saver = tf.train.Saver(max_to_keep=2)\n",
    "\n",
    "            if restore:\n",
    "                ckpt = tf.train.get_checkpoint_state(save_path+\"checkpoints\")\n",
    "                saver.restore(sess,ckpt.model_checkpoint_path)\n",
    "            else:\n",
    "                sess.run(tf.global_variables_initializer())\n",
    "                \n",
    "            for thread_id in range(num_agents):\n",
    "                processes.append(threading.Thread(target=test, args=(agents[thread_id],\n",
    "                envs[thread_id], 2, True)))\n",
    "\n",
    "            for p in processes:\n",
    "                p.daemon = True\n",
    "                p.start()\n",
    "\n",
    "                \n",
    "            for p in processes:\n",
    "                p.join()\n"
   ]
  },
  {
   "cell_type": "code",
   "execution_count": 8,
   "metadata": {},
   "outputs": [
    {
     "name": "stdout",
     "output_type": "stream",
     "text": [
      "INFO:tensorflow:Restoring parameters from saves/breakout/final_R1/checkpoints/model1981886.cptk\n"
     ]
    },
    {
     "name": "stderr",
     "output_type": "stream",
     "text": [
      "/usr/local/lib/python3.6/dist-packages/tensorflow/python/ops/gradients_impl.py:100: UserWarning: Converting sparse IndexedSlices to a dense Tensor of unknown shape. This may consume a large amount of memory.\n",
      "  \"Converting sparse IndexedSlices to a dense Tensor of unknown shape. \"\n",
      "/home/juull100/.local/lib/python3.6/site-packages/skimage/transform/_warps.py:105: UserWarning: The default mode, 'constant', will be changed to 'reflect' in skimage 0.15.\n",
      "  warn(\"The default mode, 'constant', will be changed to 'reflect' in \"\n",
      "/home/juull100/.local/lib/python3.6/site-packages/skimage/transform/_warps.py:110: UserWarning: Anti-aliasing will be enabled by default in skimage 0.15 to avoid aliasing artifacts when down-sampling images.\n",
      "  warn(\"Anti-aliasing will be enabled by default in skimage 0.15 to \"\n",
      "Exception in thread Thread-38:\n",
      "Traceback (most recent call last):\n",
      "  File \"/usr/lib/python3.6/threading.py\", line 916, in _bootstrap_inner\n",
      "    self.run()\n",
      "  File \"/usr/lib/python3.6/threading.py\", line 864, in run\n",
      "    self._target(*self._args, **self._kwargs)\n",
      "  File \"/home/juull100/Bachelor/Bachelor/ACER_ACTUALLY/Trainer.py\", line 136, in test\n",
      "    env.render()\n",
      "  File \"/home/juull100/Bachelor/Bachelor/ACER_ACTUALLY/AtariEnvironment.py\", line 38, in render\n",
      "    self.env.render()\n",
      "  File \"/usr/local/lib/python3.6/dist-packages/gym/core.py\", line 284, in render\n",
      "    return self.env.render(mode)\n",
      "  File \"/usr/local/lib/python3.6/dist-packages/gym/envs/atari/atari_env.py\", line 107, in render\n",
      "    from gym.envs.classic_control import rendering\n",
      "  File \"/usr/local/lib/python3.6/dist-packages/gym/envs/classic_control/rendering.py\", line 23, in <module>\n",
      "    from pyglet.gl import *\n",
      "  File \"/home/juull100/.local/lib/python3.6/site-packages/pyglet/gl/__init__.py\", line 239, in <module>\n",
      "    import pyglet.window\n",
      "  File \"/home/juull100/.local/lib/python3.6/site-packages/pyglet/window/__init__.py\", line 1896, in <module>\n",
      "    gl._create_shadow_window()\n",
      "  File \"/home/juull100/.local/lib/python3.6/site-packages/pyglet/gl/__init__.py\", line 208, in _create_shadow_window\n",
      "    _shadow_window = Window(width=1, height=1, visible=False)\n",
      "  File \"/home/juull100/.local/lib/python3.6/site-packages/pyglet/window/xlib/__init__.py\", line 166, in __init__\n",
      "    super(XlibWindow, self).__init__(*args, **kwargs)\n",
      "  File \"/home/juull100/.local/lib/python3.6/site-packages/pyglet/window/__init__.py\", line 501, in __init__\n",
      "    display = get_platform().get_default_display()\n",
      "  File \"/home/juull100/.local/lib/python3.6/site-packages/pyglet/window/__init__.py\", line 1845, in get_default_display\n",
      "    return pyglet.canvas.get_display()\n",
      "  File \"/home/juull100/.local/lib/python3.6/site-packages/pyglet/canvas/__init__.py\", line 82, in get_display\n",
      "    return Display()\n",
      "  File \"/home/juull100/.local/lib/python3.6/site-packages/pyglet/canvas/xlib.py\", line 86, in __init__\n",
      "    raise NoSuchDisplayException('Cannot connect to \"%s\"' % name)\n",
      "pyglet.canvas.xlib.NoSuchDisplayException: Cannot connect to \"None\"\n",
      "\n"
     ]
    }
   ],
   "source": [
    "tf.reset_default_graph()\n",
    "test_method()"
   ]
  },
  {
   "cell_type": "code",
   "execution_count": null,
   "metadata": {},
   "outputs": [],
   "source": []
  },
  {
   "cell_type": "code",
   "execution_count": null,
   "metadata": {},
   "outputs": [],
   "source": []
  },
  {
   "cell_type": "code",
   "execution_count": null,
   "metadata": {},
   "outputs": [],
   "source": []
  }
 ],
 "metadata": {
  "kernelspec": {
   "display_name": "Python 3",
   "language": "python",
   "name": "python3"
  },
  "language_info": {
   "codemirror_mode": {
    "name": "ipython",
    "version": 3
   },
   "file_extension": ".py",
   "mimetype": "text/x-python",
   "name": "python",
   "nbconvert_exporter": "python",
   "pygments_lexer": "ipython3",
   "version": "3.6.5"
  }
 },
 "nbformat": 4,
 "nbformat_minor": 2
}
