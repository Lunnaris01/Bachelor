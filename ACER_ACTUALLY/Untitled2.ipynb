{
 "cells": [
  {
   "cell_type": "code",
   "execution_count": 1,
   "metadata": {},
   "outputs": [
    {
     "name": "stderr",
     "output_type": "stream",
     "text": [
      "/usr/lib/python3.6/importlib/_bootstrap.py:219: RuntimeWarning: numpy.dtype size changed, may indicate binary incompatibility. Expected 96, got 88\n",
      "  return f(*args, **kwds)\n",
      "/usr/lib/python3.6/importlib/_bootstrap.py:219: RuntimeWarning: numpy.dtype size changed, may indicate binary incompatibility. Expected 96, got 88\n",
      "  return f(*args, **kwds)\n"
     ]
    },
    {
     "name": "stdout",
     "output_type": "stream",
     "text": [
      "Discrete(18)\n"
     ]
    },
    {
     "name": "stderr",
     "output_type": "stream",
     "text": [
      "/home/juull100/.local/lib/python3.6/site-packages/skimage/transform/_warps.py:105: UserWarning: The default mode, 'constant', will be changed to 'reflect' in skimage 0.15.\n",
      "  warn(\"The default mode, 'constant', will be changed to 'reflect' in \"\n",
      "/home/juull100/.local/lib/python3.6/site-packages/skimage/transform/_warps.py:110: UserWarning: Anti-aliasing will be enabled by default in skimage 0.15 to avoid aliasing artifacts when down-sampling images.\n",
      "  warn(\"Anti-aliasing will be enabled by default in skimage 0.15 to \"\n"
     ]
    }
   ],
   "source": [
    "import threading\n",
    "import multiprocessing\n",
    "import numpy as np\n",
    "import tensorflow as tf\n",
    "#from AtariEnvironment import *\n",
    "from SeaquestEnvironment import *\n",
    "from ACERNetwork import * \n",
    "from ReplayBuffer import *\n",
    "from Worker import * \n",
    "from Trainer import train,train_acer, test\n",
    "import gym as gym\n",
    "from time import sleep\n",
    "from time import time\n",
    "from utils import preprocess\n",
    "\n",
    "network_t = \"cnn\"\n",
    "GAME_NAME=\"Seaquest-v0\"\n",
    "#GAME_NAME = \"LunarLander-v2\"\n",
    "TB_DIR = \"saves/seaquest/final_R0/\"\n",
    "env=Seaquest_Environment(gym.make(GAME_NAME))\n",
    "env2=gym.make(GAME_NAME)\n",
    "#env = gym.make(GAME_NAME)\n",
    "state= env.reset()\n",
    "training_finished = False\n",
    "LEARNING_RATE = 8e-5\n",
    "print(env.action_space)"
   ]
  },
  {
   "cell_type": "code",
   "execution_count": 2,
   "metadata": {},
   "outputs": [
    {
     "name": "stderr",
     "output_type": "stream",
     "text": [
      "/usr/local/lib/python3.6/dist-packages/tensorflow/python/ops/gradients_impl.py:100: UserWarning: Converting sparse IndexedSlices to a dense Tensor of unknown shape. This may consume a large amount of memory.\n",
      "  \"Converting sparse IndexedSlices to a dense Tensor of unknown shape. \"\n"
     ]
    },
    {
     "name": "stdout",
     "output_type": "stream",
     "text": [
      "[[0.05538173 0.05628235 0.05373008 0.05738406 0.06047516 0.05492027\n",
      "  0.05471828 0.05280162 0.0508952  0.05400984 0.05427533 0.05784094\n",
      "  0.06267966 0.05620741 0.05454499 0.05309907 0.0557992  0.05495477]]\n",
      "[[0.0557004  0.05272225 0.05729368 0.05652955 0.05339579 0.05550925\n",
      "  0.05585336 0.05494371 0.05674365 0.05760376 0.05572307 0.05360806\n",
      "  0.05615005 0.05577984 0.05497103 0.05634213 0.05434184 0.05678855]]\n",
      "[[0.0557004  0.05272225 0.05729368 0.05652955 0.05339579 0.05550925\n",
      "  0.05585336 0.05494371 0.05674365 0.05760376 0.05572307 0.05360806\n",
      "  0.05615005 0.05577984 0.05497103 0.05634213 0.05434184 0.05678855]]\n",
      "[[0.0557004  0.05272225 0.05729368 0.05652955 0.05339579 0.05550925\n",
      "  0.05585336 0.05494371 0.05674365 0.05760376 0.05572307 0.05360806\n",
      "  0.05615005 0.05577984 0.05497103 0.05634213 0.05434184 0.05678855]]\n"
     ]
    }
   ],
   "source": [
    "session = tf.Session()\n",
    "tf.reset_default_graph()\n",
    "\n",
    "with tf.Session() as sess:\n",
    "    with tf.device('/cpu:0'):\n",
    "        G_Agent=ACERNetwork(sess,env,\"global\",network_type=network_t)\n",
    "        agent = ACERNetwork(sess,env,str(0),G_Agent, network_type=network_t)\n",
    "        sess.run(tf.global_variables_initializer())\n",
    "        print(agent.get_pi(state))\n",
    "        print(G_Agent.get_pi(state))\n",
    "        agent.update_target()\n",
    "        print(agent.get_pi(state))\n",
    "        print(G_Agent.get_pi(state))\n"
   ]
  },
  {
   "cell_type": "code",
   "execution_count": 7,
   "metadata": {},
   "outputs": [
    {
     "name": "stderr",
     "output_type": "stream",
     "text": [
      "/home/juull100/.local/lib/python3.6/site-packages/skimage/transform/_warps.py:105: UserWarning: The default mode, 'constant', will be changed to 'reflect' in skimage 0.15.\n",
      "  warn(\"The default mode, 'constant', will be changed to 'reflect' in \"\n",
      "/home/juull100/.local/lib/python3.6/site-packages/skimage/transform/_warps.py:110: UserWarning: Anti-aliasing will be enabled by default in skimage 0.15 to avoid aliasing artifacts when down-sampling images.\n",
      "  warn(\"Anti-aliasing will be enabled by default in skimage 0.15 to \"\n"
     ]
    },
    {
     "data": {
      "text/plain": [
       "<matplotlib.image.AxesImage at 0x7f11e80c9e80>"
      ]
     },
     "execution_count": 7,
     "metadata": {},
     "output_type": "execute_result"
    },
    {
     "data": {
      "image/png": "[encoded data removed]",
      "text/plain": [
       "<Figure size 432x288 with 1 Axes>"
      ]
     },
     "metadata": {},
     "output_type": "display_data"
    }
   ],
   "source": [
    "import matplotlib.pyplot as plt\n",
    "import matplotlib.image as mpimg\n",
    "s1 = env.reset()\n",
    "s2 = env2.reset()\n",
    "plt.imshow(s1)\n"
   ]
  },
  {
   "cell_type": "code",
   "execution_count": 4,
   "metadata": {},
   "outputs": [
    {
     "data": {
      "text/plain": [
       "<matplotlib.image.AxesImage at 0x7f11e818d5f8>"
      ]
     },
     "execution_count": 4,
     "metadata": {},
     "output_type": "execute_result"
    },
    {
     "data": {
      "image/png": "[encoded data removed]",
      "text/plain": [
       "<Figure size 432x288 with 1 Axes>"
      ]
     },
     "metadata": {},
     "output_type": "display_data"
    }
   ],
   "source": [
    "plt.imshow(s2)"
   ]
  },
  {
   "cell_type": "code",
   "execution_count": 5,
   "metadata": {},
   "outputs": [
    {
     "data": {
      "text/plain": [
       "<matplotlib.image.AxesImage at 0x7f11e817b7b8>"
      ]
     },
     "execution_count": 5,
     "metadata": {},
     "output_type": "execute_result"
    },
    {
     "data": {
      "image/png": "[encoded data removed]",
      "text/plain": [
       "<Figure size 432x288 with 1 Axes>"
      ]
     },
     "metadata": {},
     "output_type": "display_data"
    }
   ],
   "source": [
    "plt.imshow(s2[170:175,45:115])"
   ]
  },
  {
   "cell_type": "code",
   "execution_count": 6,
   "metadata": {},
   "outputs": [
    {
     "name": "stdout",
     "output_type": "stream",
     "text": [
      "(5, 160, 3)\n"
     ]
    }
   ],
   "source": [
    "print(s2[170:175].shape)"
   ]
  },
  {
   "cell_type": "code",
   "execution_count": null,
   "metadata": {},
   "outputs": [],
   "source": []
  }
 ],
 "metadata": {
  "kernelspec": {
   "display_name": "Python 3",
   "language": "python",
   "name": "python3"
  },
  "language_info": {
   "codemirror_mode": {
    "name": "ipython",
    "version": 3
   },
   "file_extension": ".py",
   "mimetype": "text/x-python",
   "name": "python",
   "nbconvert_exporter": "python",
   "pygments_lexer": "ipython3",
   "version": "3.6.5"
  }
 },
 "nbformat": 4,
 "nbformat_minor": 2
}
