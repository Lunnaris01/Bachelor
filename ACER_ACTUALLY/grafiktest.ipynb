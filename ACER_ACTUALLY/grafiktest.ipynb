{
 "cells": [
  {
   "cell_type": "code",
   "execution_count": 1,
   "metadata": {},
   "outputs": [
    {
     "name": "stdout",
     "output_type": "stream",
     "text": [
      "Discrete(4)\n"
     ]
    },
    {
     "name": "stderr",
     "output_type": "stream",
     "text": [
      "/home/julian/anaconda3/envs/BA/lib/python3.6/site-packages/skimage/transform/_warps.py:105: UserWarning: The default mode, 'constant', will be changed to 'reflect' in skimage 0.15.\n",
      "  warn(\"The default mode, 'constant', will be changed to 'reflect' in \"\n",
      "/home/julian/anaconda3/envs/BA/lib/python3.6/site-packages/skimage/transform/_warps.py:110: UserWarning: Anti-aliasing will be enabled by default in skimage 0.15 to avoid aliasing artifacts when down-sampling images.\n",
      "  warn(\"Anti-aliasing will be enabled by default in skimage 0.15 to \"\n"
     ]
    }
   ],
   "source": [
    "import threading\n",
    "import multiprocessing\n",
    "import numpy as np\n",
    "import tensorflow as tf\n",
    "from AtariEnvironment import *\n",
    "from ACERNetwork import * \n",
    "from ReplayBuffer import *\n",
    "from Worker import * \n",
    "from Trainer import train,train_acer, test\n",
    "import gym as gym\n",
    "from time import sleep\n",
    "from time import time\n",
    "from utils import preprocess\n",
    "\n",
    "network_t = \"cnn\"\n",
    "GAME_NAME=\"Breakout-v0\"\n",
    "#GAME_NAME = \"LunarLander-v2\"\n",
    "TB_DIR = \"saves/breakout/final_R4_final/\"\n",
    "env=Atari_Environment(gym.make(GAME_NAME))\n",
    "#env = gym.make(GAME_NAME)\n",
    "state= env.reset()\n",
    "training_finished = False\n",
    "LEARNING_RATE = 8e-5\n",
    "print(env.action_space)"
   ]
  },
  {
   "cell_type": "code",
   "execution_count": 2,
   "metadata": {},
   "outputs": [],
   "source": [
    "from tensorflow import Session, ConfigProto\n",
    "import os\n",
    "os.environ[\"CUDA_VISIBLE_DEVICES\"]=\"0,1\"\n",
    "config = ConfigProto()\n",
    "config.gpu_options.allow_growth=True\n",
    "Session(config=config).close()"
   ]
  },
  {
   "cell_type": "code",
   "execution_count": 3,
   "metadata": {},
   "outputs": [],
   "source": [
    "def test_method(game_name=GAME_NAME, num_agents = 1, restore = True, save_path=TB_DIR):\n",
    "        \n",
    "    envs=[]\n",
    "    agents=[]\n",
    "    processes=[]\n",
    "    \n",
    "    for _ in range(num_agents):\n",
    "        #a_env = gym.make(game_name)\n",
    "        #a_env = Custom_Environment(gym.make(game_name))\n",
    "        a_env = Atari_Environment(gym.make(game_name), clipreward=False)\n",
    "        envs.append(a_env)\n",
    "       \n",
    "\n",
    "\n",
    "    with tf.Session() as sess:\n",
    "        with tf.device('/cpu:0'):\n",
    "            coord = tf.train.Coordinator()\n",
    "            G_Agent=ACERNetwork(sess,envs[0],\"global\",network_type=network_t,lr=LEARNING_RATE,decay=0.99)\n",
    "            for agent_num in range(num_agents):\n",
    "                agents.append(ACERNetwork(sess,envs[0],str(agent_num),G_Agent,network_type=network_t))\n",
    "            saver = tf.train.Saver(max_to_keep=2)\n",
    "\n",
    "            if restore:\n",
    "                ckpt = tf.train.get_checkpoint_state(save_path+\"checkpoints\")\n",
    "                saver.restore(sess,ckpt.model_checkpoint_path)\n",
    "            else:\n",
    "                sess.run(tf.global_variables_initializer())\n",
    "                \n",
    "            for thread_id in range(num_agents):\n",
    "                processes.append(threading.Thread(target=test, args=(agents[thread_id],\n",
    "                envs[thread_id], 10, True)))\n",
    "\n",
    "            for p in processes:\n",
    "                p.daemon = True\n",
    "                p.start()\n",
    "\n",
    "                \n",
    "            for p in processes:\n",
    "                p.join()\n"
   ]
  },
  {
   "cell_type": "code",
   "execution_count": 4,
   "metadata": {},
   "outputs": [
    {
     "name": "stderr",
     "output_type": "stream",
     "text": [
      "/home/julian/anaconda3/envs/BA/lib/python3.6/site-packages/tensorflow/python/ops/gradients_impl.py:100: UserWarning: Converting sparse IndexedSlices to a dense Tensor of unknown shape. This may consume a large amount of memory.\n",
      "  \"Converting sparse IndexedSlices to a dense Tensor of unknown shape. \"\n"
     ]
    },
    {
     "name": "stdout",
     "output_type": "stream",
     "text": [
      "INFO:tensorflow:Restoring parameters from saves/breakout/final_R4_final/checkpoints/model4953750.cptk\n"
     ]
    },
    {
     "name": "stderr",
     "output_type": "stream",
     "text": [
      "/home/julian/anaconda3/envs/BA/lib/python3.6/site-packages/skimage/transform/_warps.py:105: UserWarning: The default mode, 'constant', will be changed to 'reflect' in skimage 0.15.\n",
      "  warn(\"The default mode, 'constant', will be changed to 'reflect' in \"\n",
      "/home/julian/anaconda3/envs/BA/lib/python3.6/site-packages/skimage/transform/_warps.py:110: UserWarning: Anti-aliasing will be enabled by default in skimage 0.15 to avoid aliasing artifacts when down-sampling images.\n",
      "  warn(\"Anti-aliasing will be enabled by default in skimage 0.15 to \"\n"
     ]
    },
    {
     "name": "stdout",
     "output_type": "stream",
     "text": [
      "Run  0 Reward:  203.0\n",
      "Run  1 Reward:  95.0\n",
      "Run  2 Reward:  90.0\n",
      "Run  3 Reward:  334.0\n",
      "Run  4 Reward:  277.0\n",
      "Run  5 Reward:  359.0\n",
      "Run  6 Reward:  75.0\n",
      "Run  7 Reward:  102.0\n",
      "Run  8 Reward:  366.0\n",
      "Run  9 Reward:  25.0\n"
     ]
    }
   ],
   "source": [
    "tf.reset_default_graph()\n",
    "test_method()"
   ]
  },
  {
   "cell_type": "code",
   "execution_count": null,
   "metadata": {},
   "outputs": [],
   "source": []
  },
  {
   "cell_type": "code",
   "execution_count": null,
   "metadata": {},
   "outputs": [],
   "source": []
  },
  {
   "cell_type": "code",
   "execution_count": null,
   "metadata": {},
   "outputs": [],
   "source": []
  }
 ],
 "metadata": {
  "kernelspec": {
   "display_name": "Python 3",
   "language": "python",
   "name": "python3"
  },
  "language_info": {
   "codemirror_mode": {
    "name": "ipython",
    "version": 3
   },
   "file_extension": ".py",
   "mimetype": "text/x-python",
   "name": "python",
   "nbconvert_exporter": "python",
   "pygments_lexer": "ipython3",
   "version": "3.6.5"
  }
 },
 "nbformat": 4,
 "nbformat_minor": 2
}
