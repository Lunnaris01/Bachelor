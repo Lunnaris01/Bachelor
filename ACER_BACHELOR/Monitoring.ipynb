{
 "cells": [
  {
   "cell_type": "code",
   "execution_count": 1,
   "metadata": {},
   "outputs": [
    {
     "name": "stderr",
     "output_type": "stream",
     "text": [
      "/usr/lib/python3.6/importlib/_bootstrap.py:219: RuntimeWarning: numpy.dtype size changed, may indicate binary incompatibility. Expected 96, got 88\n",
      "  return f(*args, **kwds)\n",
      "/usr/lib/python3.6/importlib/_bootstrap.py:219: RuntimeWarning: numpy.dtype size changed, may indicate binary incompatibility. Expected 96, got 88\n",
      "  return f(*args, **kwds)\n"
     ]
    },
    {
     "name": "stdout",
     "output_type": "stream",
     "text": [
      "Discrete(4)\n"
     ]
    },
    {
     "name": "stderr",
     "output_type": "stream",
     "text": [
      "/home/juull100/.local/lib/python3.6/site-packages/skimage/transform/_warps.py:105: UserWarning: The default mode, 'constant', will be changed to 'reflect' in skimage 0.15.\n",
      "  warn(\"The default mode, 'constant', will be changed to 'reflect' in \"\n",
      "/home/juull100/.local/lib/python3.6/site-packages/skimage/transform/_warps.py:110: UserWarning: Anti-aliasing will be enabled by default in skimage 0.15 to avoid aliasing artifacts when down-sampling images.\n",
      "  warn(\"Anti-aliasing will be enabled by default in skimage 0.15 to \"\n"
     ]
    }
   ],
   "source": [
    "import threading\n",
    "import multiprocessing\n",
    "import numpy as np\n",
    "import tensorflow as tf\n",
    "from AtariEnvironment import *\n",
    "from ACERNetwork import * \n",
    "from ReplayBuffer import *\n",
    "from Worker import * \n",
    "import gym as gym\n",
    "from time import sleep\n",
    "from time import time\n",
    "from utils import preprocess\n",
    "\n",
    "network_t = \"cnn\"\n",
    "GAME_NAME=\"Breakout-v0\"\n",
    "#GAME_NAME = \"LunarLander-v2\"\n",
    "TB_DIR = \"saves/breakout/R2_Buf5_1e4/\"\n",
    "env=Atari_Environment(gym.make(GAME_NAME))\n",
    "#env = gym.make(GAME_NAME)\n",
    "state= env.reset()\n",
    "training_finished = False\n",
    "LEARNING_RATE = 1e-4\n",
    "print(env.action_space)"
   ]
  },
  {
   "cell_type": "code",
   "execution_count": 4,
   "metadata": {},
   "outputs": [],
   "source": [
    "def test_method(game_name=GAME_NAME, num_agents = 1, save_path=TB_DIR):\n",
    "        \n",
    "    envs=[]\n",
    "    agents=[]\n",
    "    processes=[]\n",
    "    \n",
    "    for _ in range(num_agents):\n",
    "        a_env = Atari_Environment(gym.make(game_name), clipreward=False)\n",
    "        envs.append(a_env)\n",
    "       \n",
    "\n",
    "\n",
    "    with tf.Session() as sess:\n",
    "        coord = tf.train.Coordinator()\n",
    "        G_Agent=ACERNetwork(sess,envs[0],\"global\",network_type=network_t,lr=LEARNING_RATE,decay=0.99)\n",
    "        for agent_num in range(num_agents):\n",
    "            agents.append(ACERNetwork(sess,envs[0],str(agent_num),G_Agent,network_type=network_t))\n",
    "        saver = tf.train.Saver(max_to_keep=5)\n",
    "\n",
    "        ckpt = tf.train.get_checkpoint_state(save_path+\"checkpoints\")\n",
    "        saver.restore(sess,ckpt.model_checkpoint_path)\n",
    "\n",
    "        for thread_id in range(num_agents):\n",
    "            processes.append(threading.Thread(target=test, args=(agents[thread_id],\n",
    "            envs[thread_id], 10, False)))\n",
    "\n",
    "        for p in processes:\n",
    "            p.daemon = True\n",
    "            p.start()\n",
    "\n",
    "\n",
    "        for p in processes:\n",
    "            p.join()\n"
   ]
  },
  {
   "cell_type": "code",
   "execution_count": 5,
   "metadata": {},
   "outputs": [
    {
     "name": "stdout",
     "output_type": "stream",
     "text": [
      "INFO:tensorflow:Restoring parameters from saves/breakout/R2_Buf5_1e4/checkpoints/model2374574.cptk\n"
     ]
    },
    {
     "name": "stderr",
     "output_type": "stream",
     "text": [
      "/usr/local/lib/python3.6/dist-packages/tensorflow/python/ops/gradients_impl.py:100: UserWarning: Converting sparse IndexedSlices to a dense Tensor of unknown shape. This may consume a large amount of memory.\n",
      "  \"Converting sparse IndexedSlices to a dense Tensor of unknown shape. \"\n",
      "/home/juull100/.local/lib/python3.6/site-packages/skimage/transform/_warps.py:105: UserWarning: The default mode, 'constant', will be changed to 'reflect' in skimage 0.15.\n",
      "  warn(\"The default mode, 'constant', will be changed to 'reflect' in \"\n",
      "/home/juull100/.local/lib/python3.6/site-packages/skimage/transform/_warps.py:110: UserWarning: Anti-aliasing will be enabled by default in skimage 0.15 to avoid aliasing artifacts when down-sampling images.\n",
      "  warn(\"Anti-aliasing will be enabled by default in skimage 0.15 to \"\n"
     ]
    },
    {
     "name": "stdout",
     "output_type": "stream",
     "text": [
      "Run  0 Reward:  47.0\n",
      "Run  1 Reward:  147.0\n",
      "Run  2 Reward:  41.0\n",
      "Run  3 Reward:  129.0\n",
      "Run  4 Reward:  91.0\n",
      "Run  5 Reward:  23.0\n",
      "Run  6 Reward:  75.0\n",
      "Run  7 Reward:  87.0\n",
      "Run  8 Reward:  53.0\n",
      "Run  9 Reward:  62.0\n"
     ]
    }
   ],
   "source": [
    "tf.reset_default_graph()\n",
    "test_method()"
   ]
  },
  {
   "cell_type": "code",
   "execution_count": null,
   "metadata": {},
   "outputs": [],
   "source": []
  },
  {
   "cell_type": "code",
   "execution_count": null,
   "metadata": {},
   "outputs": [],
   "source": []
  },
  {
   "cell_type": "code",
   "execution_count": null,
   "metadata": {},
   "outputs": [],
   "source": []
  }
 ],
 "metadata": {
  "kernelspec": {
   "display_name": "Python 3",
   "language": "python",
   "name": "python3"
  },
  "language_info": {
   "codemirror_mode": {
    "name": "ipython",
    "version": 3
   },
   "file_extension": ".py",
   "mimetype": "text/x-python",
   "name": "python",
   "nbconvert_exporter": "python",
   "pygments_lexer": "ipython3",
   "version": "3.6.5"
  }
 },
 "nbformat": 4,
 "nbformat_minor": 2
}
