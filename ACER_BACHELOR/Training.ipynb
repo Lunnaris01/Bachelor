{
 "cells": [
  {
   "cell_type": "code",
   "execution_count": 1,
   "metadata": {},
   "outputs": [
    {
     "name": "stdout",
     "output_type": "stream",
     "text": [
      "Discrete(4)\n"
     ]
    },
    {
     "name": "stderr",
     "output_type": "stream",
     "text": [
      "/home/julian/anaconda3/envs/BA/lib/python3.6/site-packages/skimage/transform/_warps.py:105: UserWarning: The default mode, 'constant', will be changed to 'reflect' in skimage 0.15.\n",
      "  warn(\"The default mode, 'constant', will be changed to 'reflect' in \"\n",
      "/home/julian/anaconda3/envs/BA/lib/python3.6/site-packages/skimage/transform/_warps.py:110: UserWarning: Anti-aliasing will be enabled by default in skimage 0.15 to avoid aliasing artifacts when down-sampling images.\n",
      "  warn(\"Anti-aliasing will be enabled by default in skimage 0.15 to \"\n"
     ]
    }
   ],
   "source": [
    "import threading\n",
    "import multiprocessing\n",
    "import numpy as np\n",
    "import tensorflow as tf\n",
    "from AtariEnvironment import *\n",
    "from ACERNetwork import * \n",
    "from ReplayBuffer import *\n",
    "from Worker import * \n",
    "import gym as gym\n",
    "from time import sleep\n",
    "from time import time\n",
    "\n",
    "network_t = \"cnn\"\n",
    "GAME_NAME=\"Breakout-v0\"\n",
    "TB_DIR = \"saves/breakout/R2_Buf5_1e4/\"\n",
    "env=Atari_Environment(gym.make(GAME_NAME))\n",
    "state= env.reset()\n",
    "training_finished = False\n",
    "LEARNING_RATE = 8e-5\n",
    "print(env.action_space)"
   ]
  },
  {
   "cell_type": "code",
   "execution_count": 2,
   "metadata": {},
   "outputs": [],
   "source": [
    "from tensorflow import Session, ConfigProto\n",
    "import os\n",
    "os.environ[\"CUDA_VISIBLE_DEVICES\"]=\"0,1\"\n",
    "config = ConfigProto()\n",
    "config.gpu_options.allow_growth=True\n",
    "Session(config=config).close()"
   ]
  },
  {
   "cell_type": "code",
   "execution_count": 3,
   "metadata": {},
   "outputs": [],
   "source": [
    "def start_method(game_name, save_path=None, restore = False, num_agents = 32, replay_ratio=2, network_type='cnn', learning_rate=8e-5, lrdecay=0.99, MAX_STEPS=1000000, DISCOUNT=0.99, NSTEPS=20):\n",
    "    if save_path == None:\n",
    "        save_path = \"saves/\"+game_name+\"_\"+replay_ratio+\"_Replay\"\n",
    "    envs=[]\n",
    "    agents=[]\n",
    "    workers=[]\n",
    "    processes=[]\n",
    "    \n",
    "    for _ in range(num_agents):\n",
    "        #a_env = gym.make(game_name)\n",
    "        #a_env = Custom_Environment(gym.make(game_name))\n",
    "        a_env = Atari_Environment(gym.make(game_name), clipreward=True)\n",
    "        envs.append(a_env)\n",
    "       \n",
    "\n",
    "    with tf.Session() as sess:\n",
    "        #create Global Net and agents.\n",
    "        with tf.device('/cpu:0'):\n",
    "            coord = tf.train.Coordinator()\n",
    "            G_Agent=ACERNetwork(sess,envs[0],\"global\",network_type=network_type,lr=learning_rate,decay=lrdecay)\n",
    "            for agent_num in range(num_agents):\n",
    "                agents.append(ACERNetwork(sess,envs[0],str(agent_num),G_Agent,network_type=network_type))\n",
    "            saver = tf.train.Saver(max_to_keep=5)\n",
    "\n",
    "            #restore parameters?\n",
    "            if restore:\n",
    "                ckpt = tf.train.get_checkpoint_state(save_path+\"checkpoints\")\n",
    "                saver.restore(sess,ckpt.model_checkpoint_path)\n",
    "                rewardlist = np.loadtxt(save_path+\"reward.out\").tolist()\n",
    "            else:\n",
    "                sess.run(tf.global_variables_initializer())\n",
    "                rewardlist = []\n",
    "            # create a process for every worker\n",
    "            for thread_id in range(num_agents):\n",
    "                if thread_id == 0:\n",
    "                    workers.append(Worker(agents[thread_id],envs[thread_id],sess,\"eval\", NSTEPS, DISCOUNT, MAX_STEPS, replay_ratio))\n",
    "                    processes.append(threading.Thread(target=workers[thread_id].work_and_eval_acer, args=(saver,TB_DIR,rewardlist)))\n",
    "                else:\n",
    "                    workers.append(Worker(agents[thread_id],envs[thread_id],sess,str(thread_id), NSTEPS, DISCOUNT, MAX_STEPS, replay_ratio))\n",
    "                    processes.append(threading.Thread(target=workers[thread_id].work_acer))\n",
    "            # run processes as daemon\n",
    "            for p in processes:\n",
    "                p.daemon = True\n",
    "                p.start()\n",
    "\n",
    "            # join processes after training.\n",
    "            coord.join(processes)\n"
   ]
  },
  {
   "cell_type": "code",
   "execution_count": null,
   "metadata": {},
   "outputs": [
    {
     "name": "stderr",
     "output_type": "stream",
     "text": [
      "/home/julian/anaconda3/envs/BA/lib/python3.6/site-packages/tensorflow/python/ops/gradients_impl.py:100: UserWarning: Converting sparse IndexedSlices to a dense Tensor of unknown shape. This may consume a large amount of memory.\n",
      "  \"Converting sparse IndexedSlices to a dense Tensor of unknown shape. \"\n"
     ]
    },
    {
     "name": "stdout",
     "output_type": "stream",
     "text": [
      "INFO:tensorflow:Restoring parameters from saves/breakout/R2_Buf5_1e4/checkpoints/model589.cptk\n",
      "5.706417042679972worker_1  using  2 offline steps, per online step\n",
      "\n",
      "worker_2  using  2 offline steps, per online step\n",
      "worker_3  using  2 offline steps, per online step\n",
      "worker_4  using  2 offline steps, per online step\n",
      "worker_5  using  2 offline steps, per online step\n",
      "worker_6  using  2 offline steps, per online step\n",
      "worker_7  using  2worker_8  using  2 offline steps, per online step\n",
      " offline steps, per online stepworker_9\n",
      "  using  2 offline steps, per online step\n",
      "worker_10  using  2 offline steps, per online step\n",
      "worker_11  using  2 offline steps, per online step\n",
      "worker_12  using  2 offline steps, per online step\n",
      "worker_13  using  2 offline steps, per online step\n",
      "worker_14  using  2 offline steps, per online step\n",
      "worker_15  using  2 offline steps, per online step\n"
     ]
    },
    {
     "name": "stderr",
     "output_type": "stream",
     "text": [
      "/home/julian/anaconda3/envs/BA/lib/python3.6/site-packages/skimage/transform/_warps.py:105: UserWarning: The default mode, 'constant', will be changed to 'reflect' in skimage 0.15.\n",
      "  warn(\"The default mode, 'constant', will be changed to 'reflect' in \"\n",
      "/home/julian/anaconda3/envs/BA/lib/python3.6/site-packages/skimage/transform/_warps.py:110: UserWarning: Anti-aliasing will be enabled by default in skimage 0.15 to avoid aliasing artifacts when down-sampling images.\n",
      "  warn(\"Anti-aliasing will be enabled by default in skimage 0.15 to \"\n"
     ]
    },
    {
     "name": "stdout",
     "output_type": "stream",
     "text": [
      "worker_eval  using  2 offline steps, per online step\n",
      "Worker  worker_eval At  763  Running/Max:  5.235775338411974 1.0  Frames: 12\n",
      "pi: [[0.24597816 0.24901009 0.2517717  0.25324014]]\n",
      "Saving Model\n"
     ]
    }
   ],
   "source": [
    "tf.reset_default_graph()\n",
    "start_method(game_name = GAME_NAME, save_path = TB_DIR, restore = True, num_agents=16, replay_ratio=2)"
   ]
  },
  {
   "cell_type": "code",
   "execution_count": null,
   "metadata": {},
   "outputs": [],
   "source": []
  },
  {
   "cell_type": "code",
   "execution_count": null,
   "metadata": {},
   "outputs": [],
   "source": []
  },
  {
   "cell_type": "code",
   "execution_count": null,
   "metadata": {},
   "outputs": [],
   "source": []
  }
 ],
 "metadata": {
  "kernelspec": {
   "display_name": "Python 3",
   "language": "python",
   "name": "python3"
  },
  "language_info": {
   "codemirror_mode": {
    "name": "ipython",
    "version": 3
   },
   "file_extension": ".py",
   "mimetype": "text/x-python",
   "name": "python",
   "nbconvert_exporter": "python",
   "pygments_lexer": "ipython3",
   "version": "3.6.5"
  }
 },
 "nbformat": 4,
 "nbformat_minor": 2
}
