{
 "cells": [
  {
   "cell_type": "code",
   "execution_count": 1,
   "metadata": {},
   "outputs": [
    {
     "name": "stderr",
     "output_type": "stream",
     "text": [
      "/usr/lib/python3.6/importlib/_bootstrap.py:219: RuntimeWarning: numpy.dtype size changed, may indicate binary incompatibility. Expected 96, got 88\n",
      "  return f(*args, **kwds)\n",
      "/usr/lib/python3.6/importlib/_bootstrap.py:219: RuntimeWarning: numpy.dtype size changed, may indicate binary incompatibility. Expected 96, got 88\n",
      "  return f(*args, **kwds)\n"
     ]
    },
    {
     "name": "stdout",
     "output_type": "stream",
     "text": [
      "Discrete(4)\n"
     ]
    },
    {
     "name": "stderr",
     "output_type": "stream",
     "text": [
      "/home/juull100/.local/lib/python3.6/site-packages/skimage/transform/_warps.py:105: UserWarning: The default mode, 'constant', will be changed to 'reflect' in skimage 0.15.\n",
      "  warn(\"The default mode, 'constant', will be changed to 'reflect' in \"\n",
      "/home/juull100/.local/lib/python3.6/site-packages/skimage/transform/_warps.py:110: UserWarning: Anti-aliasing will be enabled by default in skimage 0.15 to avoid aliasing artifacts when down-sampling images.\n",
      "  warn(\"Anti-aliasing will be enabled by default in skimage 0.15 to \"\n"
     ]
    }
   ],
   "source": [
    "import numpy as np\n",
    "import tensorflow as tf\n",
    "from AtariEnvironment import *\n",
    "from ACERNetwork import * \n",
    "from Worker import * \n",
    "import gym as gym\n",
    "\n",
    "network_t = \"cnn\"\n",
    "GAME_NAME=\"Breakout-v0\"\n",
    "#GAME_NAME = \"LunarLander-v2\"\n",
    "TB_DIR = \"saves/breakout/test/\"\n",
    "env=Atari_Environment(gym.make(GAME_NAME))\n",
    "#env = gym.make(GAME_NAME)\n",
    "state= env.reset()\n",
    "training_finished = False\n",
    "LEARNING_RATE = 1e-4\n",
    "print(env.action_space)"
   ]
  },
  {
   "cell_type": "code",
   "execution_count": 2,
   "metadata": {},
   "outputs": [],
   "source": [
    "from tensorflow import Session, ConfigProto\n",
    "import os\n",
    "os.environ[\"CUDA_VISIBLE_DEVICES\"]=\"0,1\"\n",
    "config = ConfigProto()\n",
    "config.gpu_options.allow_growth=True\n",
    "Session(config=config).close()"
   ]
  },
  {
   "cell_type": "code",
   "execution_count": 3,
   "metadata": {},
   "outputs": [
    {
     "name": "stdout",
     "output_type": "stream",
     "text": [
      "Tensor(\"net_0/shared_policy_net/conv_layer_1/Relu:0\", shape=(?, 20, 20, 32), dtype=float32, device=/device:CPU:0)\n",
      "Tensor(\"net_0/shared_policy_net/conv_layer_2/Relu:0\", shape=(?, 9, 9, 64), dtype=float32, device=/device:CPU:0)\n",
      "Tensor(\"net_0/shared_policy_net/conv_layer_3/Relu:0\", shape=(?, 7, 7, 64), dtype=float32, device=/device:CPU:0)\n"
     ]
    },
    {
     "name": "stderr",
     "output_type": "stream",
     "text": [
      "/usr/local/lib/python3.6/dist-packages/tensorflow/python/ops/gradients_impl.py:100: UserWarning: Converting sparse IndexedSlices to a dense Tensor of unknown shape. This may consume a large amount of memory.\n",
      "  \"Converting sparse IndexedSlices to a dense Tensor of unknown shape. \"\n"
     ]
    },
    {
     "name": "stdout",
     "output_type": "stream",
     "text": [
      "[[0.23614298 0.2449363  0.25800633 0.26091442]]\n"
     ]
    }
   ],
   "source": [
    "session = tf.Session()\n",
    "tf.reset_default_graph()\n",
    "\n",
    "with tf.Session() as sess:\n",
    "    with tf.device('/cpu:0'):\n",
    "        agent = ACERNetwork(sess,env,str(0), network_type=network_t)\n",
    "        sess.run(tf.global_variables_initializer())\n",
    "        print(agent.get_pi(state))"
   ]
  },
  {
   "cell_type": "code",
   "execution_count": 4,
   "metadata": {},
   "outputs": [],
   "source": [
    "def start_method(game_name=GAME_NAME, num_agents = 16, restore = False, save_path=TB_DIR, replay_ratio=4,network_type=\"cnn\"):\n",
    "        \n",
    "    envs=[]\n",
    "    \n",
    "    for _ in range(num_agents):\n",
    "        a_env = Atari_Environment(gym.make(game_name), clipreward=True)\n",
    "        envs.append(a_env)\n",
    "       \n",
    "\n",
    "    with tf.Session() as sess:\n",
    "            agent=ACERNetwork(sess,envs[0],\"agent\",network_type=network_t,lr=LEARNING_RATE,decay=0.99)\n",
    "            saver = tf.train.Saver(max_to_keep=5)\n",
    "            \n",
    "            if restore:\n",
    "                ckpt = tf.train.get_checkpoint_state(save_path+\"checkpoints\")\n",
    "                saver.restore(sess,ckpt.model_checkpoint_path)\n",
    "            else:\n",
    "                sess.run(tf.global_variables_initializer())\n",
    "\n",
    "                \n",
    "            worker = Worker(agent,envs,sess,\"eval\", 20, 0.99, 250000, replay_ratio)\n",
    "            worker.work_acer()\n"
   ]
  },
  {
   "cell_type": "code",
   "execution_count": null,
   "metadata": {},
   "outputs": [
    {
     "name": "stdout",
     "output_type": "stream",
     "text": [
      "Tensor(\"net_agent/shared_policy_net/conv_layer_1/Relu:0\", shape=(?, 20, 20, 32), dtype=float32)\n",
      "Tensor(\"net_agent/shared_policy_net/conv_layer_2/Relu:0\", shape=(?, 9, 9, 64), dtype=float32)\n",
      "Tensor(\"net_agent/shared_policy_net/conv_layer_3/Relu:0\", shape=(?, 7, 7, 64), dtype=float32)\n"
     ]
    },
    {
     "name": "stderr",
     "output_type": "stream",
     "text": [
      "/usr/local/lib/python3.6/dist-packages/tensorflow/python/ops/gradients_impl.py:100: UserWarning: Converting sparse IndexedSlices to a dense Tensor of unknown shape. This may consume a large amount of memory.\n",
      "  \"Converting sparse IndexedSlices to a dense Tensor of unknown shape. \"\n"
     ]
    },
    {
     "name": "stdout",
     "output_type": "stream",
     "text": [
      "[True, True, True, True, True, True, True, True, True, True, True, True, True, True, True, True]\n",
      "worker_eval  using  0  per online step\n"
     ]
    },
    {
     "name": "stderr",
     "output_type": "stream",
     "text": [
      "/home/juull100/.local/lib/python3.6/site-packages/skimage/transform/_warps.py:105: UserWarning: The default mode, 'constant', will be changed to 'reflect' in skimage 0.15.\n",
      "  warn(\"The default mode, 'constant', will be changed to 'reflect' in \"\n",
      "/home/juull100/.local/lib/python3.6/site-packages/skimage/transform/_warps.py:110: UserWarning: Anti-aliasing will be enabled by default in skimage 0.15 to avoid aliasing artifacts when down-sampling images.\n",
      "  warn(\"Anti-aliasing will be enabled by default in skimage 0.15 to \"\n"
     ]
    },
    {
     "name": "stdout",
     "output_type": "stream",
     "text": [
      "192 1.0\n",
      "400 1.0\n",
      "560 0.0\n",
      "768 1.0\n",
      "992 1.0\n",
      "1216 2.0\n",
      "1360 0.0\n",
      "1536 1.0\n",
      "1712 0.0\n",
      "1952 2.0\n",
      "2192 2.0\n",
      "2384 1.0\n",
      "2784 5.0\n",
      "3024 2.0\n",
      "3280 2.0\n",
      "3440 0.0\n",
      "3648 1.0\n",
      "3808 0.0\n",
      "3968 0.0\n",
      "4144 0.0\n",
      "4368 2.0\n",
      "4688 3.0\n",
      "4880 1.0\n",
      "5168 3.0\n",
      "5328 0.0\n",
      "5488 0.0\n",
      "5648 0.0\n",
      "5904 3.0\n",
      "6096 1.0\n",
      "6480 5.0\n",
      "6720 2.0\n",
      "6928 1.0\n",
      "7264 4.0\n",
      "7424 0.0\n",
      "7792 4.0\n",
      "8192 5.0\n",
      "8480 3.0\n",
      "8720 2.0\n",
      "8864 0.0\n",
      "9008 0.0\n",
      "9344 4.0\n",
      "9632 3.0\n",
      "9872 2.0\n",
      "10160 2.0\n",
      "10400 2.0\n",
      "10688 3.0\n",
      "10976 3.0\n",
      "11232 2.0\n",
      "11472 2.0\n",
      "11712 2.0\n",
      "11952 2.0\n",
      "12096 0.0\n",
      "12336 2.0\n",
      "12576 2.0\n",
      "12880 3.0\n",
      "13120 2.0\n",
      "13280 0.0\n",
      "13424 0.0\n",
      "13680 2.0\n",
      "13984 3.0\n",
      "14256 2.0\n",
      "14496 2.0\n",
      "14784 3.0\n",
      "15024 2.0\n",
      "15184 0.0\n",
      "15424 2.0\n",
      "15680 2.0\n"
     ]
    }
   ],
   "source": [
    "tf.reset_default_graph()\n",
    "start_method(replay_ratio=0)"
   ]
  },
  {
   "cell_type": "code",
   "execution_count": null,
   "metadata": {},
   "outputs": [],
   "source": [
    "TB_DIR = \"saves/spaceinv/final_R1/\"\n",
    "tf.reset_default_graph()\n",
    "start_method(replay_ratio=1)"
   ]
  },
  {
   "cell_type": "code",
   "execution_count": null,
   "metadata": {},
   "outputs": [],
   "source": [
    "def test_method(game_name=GAME_NAME, num_agents = 1, restore = True, save_path=TB_DIR):\n",
    "        \n",
    "    envs=[]\n",
    "    agents=[]\n",
    "    processes=[]\n",
    "    \n",
    "    for _ in range(num_agents):\n",
    "        #a_env = gym.make(game_name)\n",
    "        #a_env = Custom_Environment(gym.make(game_name))\n",
    "        a_env = Atari_Environment(gym.make(game_name), clipreward=False)\n",
    "        envs.append(a_env)\n",
    "       \n",
    "\n",
    "\n",
    "    with tf.Session() as sess:\n",
    "        with tf.device('/cpu:0'):\n",
    "            coord = tf.train.Coordinator()\n",
    "            G_Agent=ACERNetwork(sess,envs[0],\"global\",network_type=network_t,lr=LEARNING_RATE,decay=0.99)\n",
    "            for agent_num in range(num_agents):\n",
    "                agents.append(ACERNetwork(sess,envs[0],str(agent_num),G_Agent,network_type=network_t))\n",
    "            saver = tf.train.Saver(max_to_keep=2)\n",
    "\n",
    "            if restore:\n",
    "                ckpt = tf.train.get_checkpoint_state(save_path+\"checkpoints\")\n",
    "                saver.restore(sess,ckpt.model_checkpoint_path)\n",
    "            else:\n",
    "                sess.run(tf.global_variables_initializer())\n",
    "                \n",
    "            for thread_id in range(num_agents):\n",
    "                processes.append(threading.Thread(target=test, args=(agents[thread_id],\n",
    "                envs[thread_id], 10, True)))\n",
    "\n",
    "            for p in processes:\n",
    "                p.daemon = True\n",
    "                p.start()\n",
    "\n",
    "                \n",
    "            for p in processes:\n",
    "                p.join()\n"
   ]
  },
  {
   "cell_type": "code",
   "execution_count": null,
   "metadata": {},
   "outputs": [],
   "source": [
    "tf.reset_default_graph()\n",
    "test_method()"
   ]
  },
  {
   "cell_type": "code",
   "execution_count": null,
   "metadata": {},
   "outputs": [],
   "source": []
  },
  {
   "cell_type": "code",
   "execution_count": null,
   "metadata": {},
   "outputs": [],
   "source": []
  },
  {
   "cell_type": "code",
   "execution_count": null,
   "metadata": {},
   "outputs": [],
   "source": []
  }
 ],
 "metadata": {
  "kernelspec": {
   "display_name": "Python 3",
   "language": "python",
   "name": "python3"
  },
  "language_info": {
   "codemirror_mode": {
    "name": "ipython",
    "version": 3
   },
   "file_extension": ".py",
   "mimetype": "text/x-python",
   "name": "python",
   "nbconvert_exporter": "python",
   "pygments_lexer": "ipython3",
   "version": "3.6.5"
  }
 },
 "nbformat": 4,
 "nbformat_minor": 2
}
